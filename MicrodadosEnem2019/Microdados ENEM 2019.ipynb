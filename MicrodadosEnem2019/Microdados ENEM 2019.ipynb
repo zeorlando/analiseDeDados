{
 "cells": [
  {
   "cell_type": "markdown",
   "source": [
    "# Importando as bibliotecas"
   ],
   "metadata": {}
  },
  {
   "cell_type": "code",
   "execution_count": 1,
   "source": [
    "import pandas as pd\n",
    "import seaborn as sns"
   ],
   "outputs": [],
   "metadata": {}
  },
  {
   "cell_type": "code",
   "execution_count": 2,
   "source": [
    "colunas = ['NU_NOTA_REDACAO', 'TP_ESCOLA','NU_NOTA_CN','NU_NOTA_CH','NU_NOTA_LC','NU_NOTA_MT', 'NU_IDADE', 'TP_SEXO', 'TP_STATUS_REDACAO','TP_ANO_CONCLUIU','TP_ST_CONCLUSAO','TP_COR_RACA','Q001', 'Q002', 'Q003', 'Q004', 'Q006', 'Q024', 'Q025']"
   ],
   "outputs": [],
   "metadata": {}
  },
  {
   "cell_type": "code",
   "execution_count": 3,
   "source": [
    "dados = pd.read_csv('dados/MICRODADOS_ENEM_2019.csv', encoding='iso-8859-1', sep = ';', usecols = colunas)"
   ],
   "outputs": [],
   "metadata": {}
  },
  {
   "cell_type": "code",
   "execution_count": 4,
   "source": [
    "dados.columns"
   ],
   "outputs": [
    {
     "output_type": "execute_result",
     "data": {
      "text/plain": [
       "Index(['NU_IDADE', 'TP_SEXO', 'TP_COR_RACA', 'TP_ST_CONCLUSAO',\n",
       "       'TP_ANO_CONCLUIU', 'TP_ESCOLA', 'NU_NOTA_CN', 'NU_NOTA_CH',\n",
       "       'NU_NOTA_LC', 'NU_NOTA_MT', 'TP_STATUS_REDACAO', 'NU_NOTA_REDACAO',\n",
       "       'Q001', 'Q002', 'Q003', 'Q004', 'Q006', 'Q024', 'Q025'],\n",
       "      dtype='object')"
      ]
     },
     "metadata": {},
     "execution_count": 4
    }
   ],
   "metadata": {}
  },
  {
   "cell_type": "code",
   "execution_count": 5,
   "source": [
    "renomear = {\n",
    "    'NU_IDADE' : 'idade', \n",
    "    'TP_SEXO' : 'sexo', \n",
    "    'TP_COR_RACA': 'raca', \n",
    "    'TP_ST_CONCLUSAO' : 'st conclusao EM',\n",
    "    'TP_ANO_CONCLUIU' : 'ano conclusao EM', \n",
    "    'TP_ESCOLA': 'tipo de escola', \n",
    "    'NU_NOTA_CN' : 'nota CN', \n",
    "    'NU_NOTA_CH' : 'nota CH',\n",
    "    'NU_NOTA_LC' : 'nota LC', \n",
    "    'NU_NOTA_MT' : 'nota MT', \n",
    "    'TP_STATUS_REDACAO' : 'status redacao', \n",
    "    'NU_NOTA_REDACAO' : 'nota redacao',\n",
    "    'Q001' : 'grau estudo pai', \n",
    "    'Q002' : 'grau estudo mae', \n",
    "    'Q003' : 'ocupacao pai', \n",
    "    'Q004' : 'ocupacao mae', \n",
    "    'Q006' : 'renda mensal familia', \n",
    "    'Q024' : 'tem computador', \n",
    "    'Q025' : 'acesso a internet'\n",
    "}"
   ],
   "outputs": [],
   "metadata": {}
  },
  {
   "cell_type": "code",
   "execution_count": 6,
   "source": [
    "enem = dados.rename(columns=renomear)"
   ],
   "outputs": [],
   "metadata": {}
  },
  {
   "cell_type": "markdown",
   "source": [
    "## Verifica total de valores nulos nas variáveis analisadas"
   ],
   "metadata": {}
  },
  {
   "cell_type": "code",
   "execution_count": 7,
   "source": [
    "enem.isnull().sum()"
   ],
   "outputs": [
    {
     "output_type": "execute_result",
     "data": {
      "text/plain": [
       "idade                        69\n",
       "sexo                          0\n",
       "raca                          0\n",
       "st conclusao EM               0\n",
       "ano conclusao EM              0\n",
       "tipo de escola                0\n",
       "nota CN                 1384837\n",
       "nota CH                 1172125\n",
       "nota LC                 1172125\n",
       "nota MT                 1384837\n",
       "status redacao          1172126\n",
       "nota redacao            1172126\n",
       "grau estudo pai               0\n",
       "grau estudo mae               0\n",
       "ocupacao pai                  0\n",
       "ocupacao mae                  0\n",
       "renda mensal familia          0\n",
       "tem computador                0\n",
       "acesso a internet             0\n",
       "dtype: int64"
      ]
     },
     "metadata": {},
     "execution_count": 7
    }
   ],
   "metadata": {}
  },
  {
   "cell_type": "code",
   "execution_count": 8,
   "source": [
    "enem = enem.dropna(subset=['idade'])"
   ],
   "outputs": [],
   "metadata": {}
  },
  {
   "cell_type": "code",
   "execution_count": 9,
   "source": [
    "enem['idade'] = enem['idade'].astype(int)"
   ],
   "outputs": [],
   "metadata": {}
  },
  {
   "cell_type": "code",
   "execution_count": 10,
   "source": [
    "enem.head(10)"
   ],
   "outputs": [
    {
     "output_type": "execute_result",
     "data": {
      "text/html": [
       "<div>\n",
       "<style scoped>\n",
       "    .dataframe tbody tr th:only-of-type {\n",
       "        vertical-align: middle;\n",
       "    }\n",
       "\n",
       "    .dataframe tbody tr th {\n",
       "        vertical-align: top;\n",
       "    }\n",
       "\n",
       "    .dataframe thead th {\n",
       "        text-align: right;\n",
       "    }\n",
       "</style>\n",
       "<table border=\"1\" class=\"dataframe\">\n",
       "  <thead>\n",
       "    <tr style=\"text-align: right;\">\n",
       "      <th></th>\n",
       "      <th>idade</th>\n",
       "      <th>sexo</th>\n",
       "      <th>raca</th>\n",
       "      <th>st conclusao EM</th>\n",
       "      <th>ano conclusao EM</th>\n",
       "      <th>tipo de escola</th>\n",
       "      <th>nota CN</th>\n",
       "      <th>nota CH</th>\n",
       "      <th>nota LC</th>\n",
       "      <th>nota MT</th>\n",
       "      <th>status redacao</th>\n",
       "      <th>nota redacao</th>\n",
       "      <th>grau estudo pai</th>\n",
       "      <th>grau estudo mae</th>\n",
       "      <th>ocupacao pai</th>\n",
       "      <th>ocupacao mae</th>\n",
       "      <th>renda mensal familia</th>\n",
       "      <th>tem computador</th>\n",
       "      <th>acesso a internet</th>\n",
       "    </tr>\n",
       "  </thead>\n",
       "  <tbody>\n",
       "    <tr>\n",
       "      <th>0</th>\n",
       "      <td>36</td>\n",
       "      <td>M</td>\n",
       "      <td>3</td>\n",
       "      <td>1</td>\n",
       "      <td>11</td>\n",
       "      <td>1</td>\n",
       "      <td>NaN</td>\n",
       "      <td>NaN</td>\n",
       "      <td>NaN</td>\n",
       "      <td>NaN</td>\n",
       "      <td>NaN</td>\n",
       "      <td>NaN</td>\n",
       "      <td>B</td>\n",
       "      <td>B</td>\n",
       "      <td>A</td>\n",
       "      <td>A</td>\n",
       "      <td>A</td>\n",
       "      <td>C</td>\n",
       "      <td>B</td>\n",
       "    </tr>\n",
       "    <tr>\n",
       "      <th>1</th>\n",
       "      <td>23</td>\n",
       "      <td>M</td>\n",
       "      <td>1</td>\n",
       "      <td>1</td>\n",
       "      <td>5</td>\n",
       "      <td>1</td>\n",
       "      <td>NaN</td>\n",
       "      <td>NaN</td>\n",
       "      <td>NaN</td>\n",
       "      <td>NaN</td>\n",
       "      <td>NaN</td>\n",
       "      <td>NaN</td>\n",
       "      <td>C</td>\n",
       "      <td>E</td>\n",
       "      <td>B</td>\n",
       "      <td>B</td>\n",
       "      <td>C</td>\n",
       "      <td>A</td>\n",
       "      <td>B</td>\n",
       "    </tr>\n",
       "    <tr>\n",
       "      <th>2</th>\n",
       "      <td>39</td>\n",
       "      <td>F</td>\n",
       "      <td>3</td>\n",
       "      <td>1</td>\n",
       "      <td>13</td>\n",
       "      <td>1</td>\n",
       "      <td>NaN</td>\n",
       "      <td>NaN</td>\n",
       "      <td>NaN</td>\n",
       "      <td>NaN</td>\n",
       "      <td>NaN</td>\n",
       "      <td>NaN</td>\n",
       "      <td>E</td>\n",
       "      <td>E</td>\n",
       "      <td>B</td>\n",
       "      <td>C</td>\n",
       "      <td>B</td>\n",
       "      <td>A</td>\n",
       "      <td>B</td>\n",
       "    </tr>\n",
       "    <tr>\n",
       "      <th>3</th>\n",
       "      <td>25</td>\n",
       "      <td>F</td>\n",
       "      <td>1</td>\n",
       "      <td>1</td>\n",
       "      <td>4</td>\n",
       "      <td>1</td>\n",
       "      <td>483.8</td>\n",
       "      <td>503.6</td>\n",
       "      <td>537.3</td>\n",
       "      <td>392.0</td>\n",
       "      <td>1.0</td>\n",
       "      <td>460.0</td>\n",
       "      <td>C</td>\n",
       "      <td>E</td>\n",
       "      <td>B</td>\n",
       "      <td>D</td>\n",
       "      <td>E</td>\n",
       "      <td>B</td>\n",
       "      <td>B</td>\n",
       "    </tr>\n",
       "    <tr>\n",
       "      <th>4</th>\n",
       "      <td>22</td>\n",
       "      <td>F</td>\n",
       "      <td>1</td>\n",
       "      <td>1</td>\n",
       "      <td>4</td>\n",
       "      <td>1</td>\n",
       "      <td>513.6</td>\n",
       "      <td>575.5</td>\n",
       "      <td>570.7</td>\n",
       "      <td>677.0</td>\n",
       "      <td>1.0</td>\n",
       "      <td>860.0</td>\n",
       "      <td>E</td>\n",
       "      <td>E</td>\n",
       "      <td>C</td>\n",
       "      <td>C</td>\n",
       "      <td>G</td>\n",
       "      <td>B</td>\n",
       "      <td>B</td>\n",
       "    </tr>\n",
       "    <tr>\n",
       "      <th>5</th>\n",
       "      <td>37</td>\n",
       "      <td>M</td>\n",
       "      <td>2</td>\n",
       "      <td>1</td>\n",
       "      <td>13</td>\n",
       "      <td>1</td>\n",
       "      <td>563.7</td>\n",
       "      <td>644.9</td>\n",
       "      <td>564.2</td>\n",
       "      <td>675.3</td>\n",
       "      <td>1.0</td>\n",
       "      <td>800.0</td>\n",
       "      <td>B</td>\n",
       "      <td>B</td>\n",
       "      <td>C</td>\n",
       "      <td>B</td>\n",
       "      <td>E</td>\n",
       "      <td>B</td>\n",
       "      <td>B</td>\n",
       "    </tr>\n",
       "    <tr>\n",
       "      <th>6</th>\n",
       "      <td>22</td>\n",
       "      <td>F</td>\n",
       "      <td>3</td>\n",
       "      <td>1</td>\n",
       "      <td>5</td>\n",
       "      <td>1</td>\n",
       "      <td>484.6</td>\n",
       "      <td>488.4</td>\n",
       "      <td>507.2</td>\n",
       "      <td>594.7</td>\n",
       "      <td>1.0</td>\n",
       "      <td>600.0</td>\n",
       "      <td>E</td>\n",
       "      <td>B</td>\n",
       "      <td>C</td>\n",
       "      <td>B</td>\n",
       "      <td>B</td>\n",
       "      <td>A</td>\n",
       "      <td>A</td>\n",
       "    </tr>\n",
       "    <tr>\n",
       "      <th>7</th>\n",
       "      <td>20</td>\n",
       "      <td>M</td>\n",
       "      <td>3</td>\n",
       "      <td>1</td>\n",
       "      <td>1</td>\n",
       "      <td>1</td>\n",
       "      <td>NaN</td>\n",
       "      <td>NaN</td>\n",
       "      <td>NaN</td>\n",
       "      <td>NaN</td>\n",
       "      <td>NaN</td>\n",
       "      <td>NaN</td>\n",
       "      <td>E</td>\n",
       "      <td>B</td>\n",
       "      <td>B</td>\n",
       "      <td>B</td>\n",
       "      <td>D</td>\n",
       "      <td>A</td>\n",
       "      <td>B</td>\n",
       "    </tr>\n",
       "    <tr>\n",
       "      <th>8</th>\n",
       "      <td>20</td>\n",
       "      <td>F</td>\n",
       "      <td>1</td>\n",
       "      <td>1</td>\n",
       "      <td>1</td>\n",
       "      <td>1</td>\n",
       "      <td>NaN</td>\n",
       "      <td>NaN</td>\n",
       "      <td>NaN</td>\n",
       "      <td>NaN</td>\n",
       "      <td>NaN</td>\n",
       "      <td>NaN</td>\n",
       "      <td>B</td>\n",
       "      <td>C</td>\n",
       "      <td>C</td>\n",
       "      <td>F</td>\n",
       "      <td>C</td>\n",
       "      <td>A</td>\n",
       "      <td>A</td>\n",
       "    </tr>\n",
       "    <tr>\n",
       "      <th>9</th>\n",
       "      <td>17</td>\n",
       "      <td>M</td>\n",
       "      <td>1</td>\n",
       "      <td>2</td>\n",
       "      <td>0</td>\n",
       "      <td>2</td>\n",
       "      <td>543.9</td>\n",
       "      <td>548.1</td>\n",
       "      <td>502.5</td>\n",
       "      <td>480.7</td>\n",
       "      <td>1.0</td>\n",
       "      <td>400.0</td>\n",
       "      <td>E</td>\n",
       "      <td>E</td>\n",
       "      <td>B</td>\n",
       "      <td>B</td>\n",
       "      <td>F</td>\n",
       "      <td>B</td>\n",
       "      <td>B</td>\n",
       "    </tr>\n",
       "  </tbody>\n",
       "</table>\n",
       "</div>"
      ],
      "text/plain": [
       "   idade sexo  raca  st conclusao EM  ano conclusao EM  tipo de escola  \\\n",
       "0     36    M     3                1                11               1   \n",
       "1     23    M     1                1                 5               1   \n",
       "2     39    F     3                1                13               1   \n",
       "3     25    F     1                1                 4               1   \n",
       "4     22    F     1                1                 4               1   \n",
       "5     37    M     2                1                13               1   \n",
       "6     22    F     3                1                 5               1   \n",
       "7     20    M     3                1                 1               1   \n",
       "8     20    F     1                1                 1               1   \n",
       "9     17    M     1                2                 0               2   \n",
       "\n",
       "   nota CN  nota CH  nota LC  nota MT  status redacao  nota redacao  \\\n",
       "0      NaN      NaN      NaN      NaN             NaN           NaN   \n",
       "1      NaN      NaN      NaN      NaN             NaN           NaN   \n",
       "2      NaN      NaN      NaN      NaN             NaN           NaN   \n",
       "3    483.8    503.6    537.3    392.0             1.0         460.0   \n",
       "4    513.6    575.5    570.7    677.0             1.0         860.0   \n",
       "5    563.7    644.9    564.2    675.3             1.0         800.0   \n",
       "6    484.6    488.4    507.2    594.7             1.0         600.0   \n",
       "7      NaN      NaN      NaN      NaN             NaN           NaN   \n",
       "8      NaN      NaN      NaN      NaN             NaN           NaN   \n",
       "9    543.9    548.1    502.5    480.7             1.0         400.0   \n",
       "\n",
       "  grau estudo pai grau estudo mae ocupacao pai ocupacao mae  \\\n",
       "0               B               B            A            A   \n",
       "1               C               E            B            B   \n",
       "2               E               E            B            C   \n",
       "3               C               E            B            D   \n",
       "4               E               E            C            C   \n",
       "5               B               B            C            B   \n",
       "6               E               B            C            B   \n",
       "7               E               B            B            B   \n",
       "8               B               C            C            F   \n",
       "9               E               E            B            B   \n",
       "\n",
       "  renda mensal familia tem computador acesso a internet  \n",
       "0                    A              C                 B  \n",
       "1                    C              A                 B  \n",
       "2                    B              A                 B  \n",
       "3                    E              B                 B  \n",
       "4                    G              B                 B  \n",
       "5                    E              B                 B  \n",
       "6                    B              A                 A  \n",
       "7                    D              A                 B  \n",
       "8                    C              A                 A  \n",
       "9                    F              B                 B  "
      ]
     },
     "metadata": {},
     "execution_count": 10
    }
   ],
   "metadata": {}
  },
  {
   "cell_type": "markdown",
   "source": [
    "## Participantes por sexo"
   ],
   "metadata": {}
  },
  {
   "cell_type": "code",
   "execution_count": 11,
   "source": [
    "por_sexo = (enem['sexo'].value_counts(normalize = True) * 100).round(2)\n",
    "pd.DataFrame(por_sexo)"
   ],
   "outputs": [
    {
     "output_type": "execute_result",
     "data": {
      "text/html": [
       "<div>\n",
       "<style scoped>\n",
       "    .dataframe tbody tr th:only-of-type {\n",
       "        vertical-align: middle;\n",
       "    }\n",
       "\n",
       "    .dataframe tbody tr th {\n",
       "        vertical-align: top;\n",
       "    }\n",
       "\n",
       "    .dataframe thead th {\n",
       "        text-align: right;\n",
       "    }\n",
       "</style>\n",
       "<table border=\"1\" class=\"dataframe\">\n",
       "  <thead>\n",
       "    <tr style=\"text-align: right;\">\n",
       "      <th></th>\n",
       "      <th>sexo</th>\n",
       "    </tr>\n",
       "  </thead>\n",
       "  <tbody>\n",
       "    <tr>\n",
       "      <th>F</th>\n",
       "      <td>59.5</td>\n",
       "    </tr>\n",
       "    <tr>\n",
       "      <th>M</th>\n",
       "      <td>40.5</td>\n",
       "    </tr>\n",
       "  </tbody>\n",
       "</table>\n",
       "</div>"
      ],
      "text/plain": [
       "   sexo\n",
       "F  59.5\n",
       "M  40.5"
      ]
     },
     "metadata": {},
     "execution_count": 11
    }
   ],
   "metadata": {}
  },
  {
   "cell_type": "markdown",
   "source": [
    "## Participantes por raça"
   ],
   "metadata": {}
  },
  {
   "cell_type": "code",
   "execution_count": 12,
   "source": [
    "enem['raca'].unique() #verifica os ids usados, a nomenclatura respectiva é buscada do dicionário de dados"
   ],
   "outputs": [
    {
     "output_type": "execute_result",
     "data": {
      "text/plain": [
       "array([3, 1, 2, 4, 0, 5])"
      ]
     },
     "metadata": {},
     "execution_count": 12
    }
   ],
   "metadata": {}
  },
  {
   "cell_type": "code",
   "execution_count": 13,
   "source": [
    "id_raca = {\n",
    "    3 : 'Parda', \n",
    "    1 : 'Branca', \n",
    "    2 : 'Preta', \n",
    "    4 : 'Amarela', \n",
    "    0 : 'Não declarado', \n",
    "    5 : 'Indígena'\n",
    "}"
   ],
   "outputs": [],
   "metadata": {}
  },
  {
   "cell_type": "code",
   "execution_count": 14,
   "source": [
    "enem['raca'] = enem['raca'].map(id_raca)"
   ],
   "outputs": [],
   "metadata": {}
  },
  {
   "cell_type": "code",
   "execution_count": 15,
   "source": [
    "por_raca = (enem['raca'].value_counts(normalize = True) * 100).round(2)\n",
    "pd.DataFrame(por_raca)"
   ],
   "outputs": [
    {
     "output_type": "execute_result",
     "data": {
      "text/html": [
       "<div>\n",
       "<style scoped>\n",
       "    .dataframe tbody tr th:only-of-type {\n",
       "        vertical-align: middle;\n",
       "    }\n",
       "\n",
       "    .dataframe tbody tr th {\n",
       "        vertical-align: top;\n",
       "    }\n",
       "\n",
       "    .dataframe thead th {\n",
       "        text-align: right;\n",
       "    }\n",
       "</style>\n",
       "<table border=\"1\" class=\"dataframe\">\n",
       "  <thead>\n",
       "    <tr style=\"text-align: right;\">\n",
       "      <th></th>\n",
       "      <th>raca</th>\n",
       "    </tr>\n",
       "  </thead>\n",
       "  <tbody>\n",
       "    <tr>\n",
       "      <th>Parda</th>\n",
       "      <td>46.40</td>\n",
       "    </tr>\n",
       "    <tr>\n",
       "      <th>Branca</th>\n",
       "      <td>35.95</td>\n",
       "    </tr>\n",
       "    <tr>\n",
       "      <th>Preta</th>\n",
       "      <td>12.72</td>\n",
       "    </tr>\n",
       "    <tr>\n",
       "      <th>Amarela</th>\n",
       "      <td>2.28</td>\n",
       "    </tr>\n",
       "    <tr>\n",
       "      <th>Não declarado</th>\n",
       "      <td>2.03</td>\n",
       "    </tr>\n",
       "    <tr>\n",
       "      <th>Indígena</th>\n",
       "      <td>0.62</td>\n",
       "    </tr>\n",
       "  </tbody>\n",
       "</table>\n",
       "</div>"
      ],
      "text/plain": [
       "                raca\n",
       "Parda          46.40\n",
       "Branca         35.95\n",
       "Preta          12.72\n",
       "Amarela         2.28\n",
       "Não declarado   2.03\n",
       "Indígena        0.62"
      ]
     },
     "metadata": {},
     "execution_count": 15
    }
   ],
   "metadata": {}
  },
  {
   "cell_type": "markdown",
   "source": [
    "## Participantes por tipo de escola"
   ],
   "metadata": {}
  },
  {
   "cell_type": "code",
   "execution_count": 16,
   "source": [
    "enem['tipo de escola'].unique()"
   ],
   "outputs": [
    {
     "output_type": "execute_result",
     "data": {
      "text/plain": [
       "array([1, 2, 3])"
      ]
     },
     "metadata": {},
     "execution_count": 16
    }
   ],
   "metadata": {}
  },
  {
   "cell_type": "code",
   "execution_count": 17,
   "source": [
    "id_tipo_escola = {\n",
    "    1 : 'Não respondeu', \n",
    "    2 : 'Pública', \n",
    "    3 : 'Privada'\n",
    "}"
   ],
   "outputs": [],
   "metadata": {}
  },
  {
   "cell_type": "code",
   "execution_count": 18,
   "source": [
    "enem['tipo de escola'] = enem['tipo de escola'].map(id_tipo_escola)"
   ],
   "outputs": [],
   "metadata": {}
  },
  {
   "cell_type": "code",
   "execution_count": 19,
   "source": [
    "por_escola = (enem['tipo de escola'].value_counts(normalize = True) * 100).round(2)\n",
    "pd.DataFrame(por_escola)"
   ],
   "outputs": [
    {
     "output_type": "execute_result",
     "data": {
      "text/html": [
       "<div>\n",
       "<style scoped>\n",
       "    .dataframe tbody tr th:only-of-type {\n",
       "        vertical-align: middle;\n",
       "    }\n",
       "\n",
       "    .dataframe tbody tr th {\n",
       "        vertical-align: top;\n",
       "    }\n",
       "\n",
       "    .dataframe thead th {\n",
       "        text-align: right;\n",
       "    }\n",
       "</style>\n",
       "<table border=\"1\" class=\"dataframe\">\n",
       "  <thead>\n",
       "    <tr style=\"text-align: right;\">\n",
       "      <th></th>\n",
       "      <th>tipo de escola</th>\n",
       "    </tr>\n",
       "  </thead>\n",
       "  <tbody>\n",
       "    <tr>\n",
       "      <th>Não respondeu</th>\n",
       "      <td>71.23</td>\n",
       "    </tr>\n",
       "    <tr>\n",
       "      <th>Pública</th>\n",
       "      <td>24.48</td>\n",
       "    </tr>\n",
       "    <tr>\n",
       "      <th>Privada</th>\n",
       "      <td>4.29</td>\n",
       "    </tr>\n",
       "  </tbody>\n",
       "</table>\n",
       "</div>"
      ],
      "text/plain": [
       "               tipo de escola\n",
       "Não respondeu           71.23\n",
       "Pública                 24.48\n",
       "Privada                  4.29"
      ]
     },
     "metadata": {},
     "execution_count": 19
    }
   ],
   "metadata": {}
  },
  {
   "cell_type": "markdown",
   "source": [
    "## Análise I - Situação da redação"
   ],
   "metadata": {}
  },
  {
   "cell_type": "code",
   "execution_count": 20,
   "source": [
    "enem = enem.dropna(subset=['status redacao'])"
   ],
   "outputs": [],
   "metadata": {}
  },
  {
   "cell_type": "code",
   "execution_count": 21,
   "source": [
    "enem['status redacao'] = enem['status redacao'].astype(int)"
   ],
   "outputs": [],
   "metadata": {}
  },
  {
   "cell_type": "code",
   "execution_count": 22,
   "source": [
    "enem['status redacao'].unique()"
   ],
   "outputs": [
    {
     "output_type": "execute_result",
     "data": {
      "text/plain": [
       "array([1, 4, 6, 9, 2, 3, 8, 7])"
      ]
     },
     "metadata": {},
     "execution_count": 22
    }
   ],
   "metadata": {}
  },
  {
   "cell_type": "code",
   "execution_count": 23,
   "source": [
    "id_status_redacao = {\n",
    "    1 : 'Sem problemas', \n",
    "    4 : 'Em branco', \n",
    "    6 : 'Fuga ao tema', \n",
    "    9 : 'Parte desconectada', \n",
    "    2 : 'Anulada', \n",
    "    3 : 'Cópia txt motivador', \n",
    "    8 : 'Txt insuficiente', \n",
    "    7 : 'N atendimento ao tp textual'\n",
    "}\n",
    "    "
   ],
   "outputs": [],
   "metadata": {}
  },
  {
   "cell_type": "code",
   "execution_count": 24,
   "source": [
    "enem['status redacao'] = enem['status redacao'].map(id_status_redacao)"
   ],
   "outputs": [],
   "metadata": {}
  },
  {
   "cell_type": "code",
   "execution_count": 25,
   "source": [
    "analise_redacao = (enem['status redacao'].value_counts(normalize = True) * 100).round(2)\n",
    "pd.DataFrame(analise_redacao)"
   ],
   "outputs": [
    {
     "output_type": "execute_result",
     "data": {
      "text/html": [
       "<div>\n",
       "<style scoped>\n",
       "    .dataframe tbody tr th:only-of-type {\n",
       "        vertical-align: middle;\n",
       "    }\n",
       "\n",
       "    .dataframe tbody tr th {\n",
       "        vertical-align: top;\n",
       "    }\n",
       "\n",
       "    .dataframe thead th {\n",
       "        text-align: right;\n",
       "    }\n",
       "</style>\n",
       "<table border=\"1\" class=\"dataframe\">\n",
       "  <thead>\n",
       "    <tr style=\"text-align: right;\">\n",
       "      <th></th>\n",
       "      <th>status redacao</th>\n",
       "    </tr>\n",
       "  </thead>\n",
       "  <tbody>\n",
       "    <tr>\n",
       "      <th>Sem problemas</th>\n",
       "      <td>96.34</td>\n",
       "    </tr>\n",
       "    <tr>\n",
       "      <th>Em branco</th>\n",
       "      <td>1.45</td>\n",
       "    </tr>\n",
       "    <tr>\n",
       "      <th>Fuga ao tema</th>\n",
       "      <td>1.04</td>\n",
       "    </tr>\n",
       "    <tr>\n",
       "      <th>Cópia txt motivador</th>\n",
       "      <td>0.59</td>\n",
       "    </tr>\n",
       "    <tr>\n",
       "      <th>Txt insuficiente</th>\n",
       "      <td>0.22</td>\n",
       "    </tr>\n",
       "    <tr>\n",
       "      <th>Anulada</th>\n",
       "      <td>0.14</td>\n",
       "    </tr>\n",
       "    <tr>\n",
       "      <th>Parte desconectada</th>\n",
       "      <td>0.12</td>\n",
       "    </tr>\n",
       "    <tr>\n",
       "      <th>N atendimento ao tp textual</th>\n",
       "      <td>0.10</td>\n",
       "    </tr>\n",
       "  </tbody>\n",
       "</table>\n",
       "</div>"
      ],
      "text/plain": [
       "                             status redacao\n",
       "Sem problemas                         96.34\n",
       "Em branco                              1.45\n",
       "Fuga ao tema                           1.04\n",
       "Cópia txt motivador                    0.59\n",
       "Txt insuficiente                       0.22\n",
       "Anulada                                0.14\n",
       "Parte desconectada                     0.12\n",
       "N atendimento ao tp textual            0.10"
      ]
     },
     "metadata": {},
     "execution_count": 25
    }
   ],
   "metadata": {}
  },
  {
   "cell_type": "markdown",
   "source": [
    "## Grau de estudo do pai / ou resp. do sexo masculino"
   ],
   "metadata": {}
  },
  {
   "cell_type": "code",
   "execution_count": 26,
   "source": [
    "enem['grau estudo pai'].unique()"
   ],
   "outputs": [
    {
     "output_type": "execute_result",
     "data": {
      "text/plain": [
       "array(['C', 'E', 'B', 'D', 'H', 'F', 'A', 'G'], dtype=object)"
      ]
     },
     "metadata": {},
     "execution_count": 26
    }
   ],
   "metadata": {}
  },
  {
   "cell_type": "code",
   "execution_count": 27,
   "source": [
    "grau_pai = {\n",
    "    'C' : 'Compl. 4º e 5º, mas não EF', \n",
    "    'E' : 'Compl. EM, mas não completou faculdade', \n",
    "    'B' : 'Não completou 4º e 5º', \n",
    "    'D' : 'Compl. 8º e 9º, mas não o EM', \n",
    "    'H' : 'Não sei', \n",
    "    'F' : 'Compl. faculdade, mas não pós', \n",
    "    'A' : 'Nunca estudou', \n",
    "    'G' : 'Compl. pós'\n",
    "}"
   ],
   "outputs": [],
   "metadata": {}
  },
  {
   "cell_type": "code",
   "execution_count": 28,
   "source": [
    "enem['grau estudo pai'] = enem['grau estudo pai'].map(grau_pai)"
   ],
   "outputs": [],
   "metadata": {}
  },
  {
   "cell_type": "code",
   "execution_count": 29,
   "source": [
    "estudo_pai = (enem['grau estudo pai'].value_counts(normalize = True) * 100).round(2)\n",
    "estudo_pai"
   ],
   "outputs": [
    {
     "output_type": "execute_result",
     "data": {
      "text/plain": [
       "Compl. EM, mas não completou faculdade    26.98\n",
       "Não completou 4º e 5º                     20.54\n",
       "Compl. 4º e 5º, mas não EF                13.99\n",
       "Compl. 8º e 9º, mas não o EM              11.72\n",
       "Não sei                                    8.39\n",
       "Compl. faculdade, mas não pós              8.17\n",
       "Compl. pós                                 5.12\n",
       "Nunca estudou                              5.11\n",
       "Name: grau estudo pai, dtype: float64"
      ]
     },
     "metadata": {},
     "execution_count": 29
    }
   ],
   "metadata": {}
  },
  {
   "cell_type": "markdown",
   "source": [
    "## Grau de estudo da mãe / ou resp. do sexo feminino"
   ],
   "metadata": {}
  },
  {
   "cell_type": "code",
   "execution_count": 30,
   "source": [
    "grau_mae = {\n",
    "    'C' : 'Compl. 4º e 5º, mas não EF', \n",
    "    'E' : 'Compl. EM, mas não completou faculdade', \n",
    "    'B' : 'Não completou 4º e 5º', \n",
    "    'D' : 'Compl. 8º e 9º, mas não o EM', \n",
    "    'H' : 'Não sei', \n",
    "    'F' : 'Compl. faculdade, mas não pós', \n",
    "    'A' : 'Nunca estudou', \n",
    "    'G' : 'Compl. pós'\n",
    "}"
   ],
   "outputs": [],
   "metadata": {}
  },
  {
   "cell_type": "code",
   "execution_count": 31,
   "source": [
    "enem['grau estudo mae'] = enem['grau estudo mae'].map(grau_mae)"
   ],
   "outputs": [],
   "metadata": {}
  },
  {
   "cell_type": "code",
   "execution_count": 32,
   "source": [
    "estudo_mae = (enem['grau estudo mae'].value_counts(normalize = True) * 100).round(2)\n",
    "estudo_mae"
   ],
   "outputs": [
    {
     "output_type": "execute_result",
     "data": {
      "text/plain": [
       "Compl. EM, mas não completou faculdade    33.22\n",
       "Não completou 4º e 5º                     15.10\n",
       "Compl. 8º e 9º, mas não o EM              12.93\n",
       "Compl. 4º e 5º, mas não EF                12.85\n",
       "Compl. faculdade, mas não pós             11.06\n",
       "Compl. pós                                 8.82\n",
       "Nunca estudou                              3.34\n",
       "Não sei                                    2.68\n",
       "Name: grau estudo mae, dtype: float64"
      ]
     },
     "metadata": {},
     "execution_count": 32
    }
   ],
   "metadata": {}
  },
  {
   "cell_type": "markdown",
   "source": [
    "## Ocupação do pai\n",
    "\n",
    "### A - Grupo 1: Lavrador, agricultor sem empregados, bóia fria, criador de animais (gado, porcos, galinhas, ovelhas, cavalos etc.), apicultor, pescador, lenhador, seringueiro, extrativista.\n",
    "### B - Grupo 2: Diarista, empregado doméstico, cuidador de idosos, babá, cozinheiro (em casas particulares), motorista particular, jardineiro, faxineiro de empresas e prédios, vigilante, porteiro, carteiro, office-boy, vendedor, caixa, atendente de loja, auxiliar administrativo, recepcionista, servente de pedreiro, repositor de mercadoria.\n",
    "### C - Grupo 3: Padeiro, cozinheiro industrial ou em restaurantes, sapateiro, costureiro, joalheiro, torneiro mecânico, operador de máquinas, soldador, operário de fábrica, trabalhador da mineração, pedreiro, pintor, eletricista, encanador, motorista, caminhoneiro, taxista.\n",
    "### D - Grupo 4: Professor (de ensino fundamental ou médio, idioma, música, artes etc.), técnico (de enfermagem, contabilidade, eletrônica etc.), policial, militar de baixa patente (soldado, cabo, sargento), corretor de imóveis, supervisor, gerente, mestre de obras, pastor, microempresário (proprietário de empresa com menos de 10 empregados), pequeno comerciante, pequeno proprietário de terras, trabalhador autônomo ou por conta própria.\n",
    "### E - Grupo 5: Médico, engenheiro, dentista, psicólogo, economista, advogado, juiz, promotor, defensor, delegado, tenente, capitão, coronel, professor universitário, diretor em empresas públicas ou privadas, político, proprietário de empresas com mais de 10 empregados.\n",
    "### F - Não sei.\n"
   ],
   "metadata": {}
  },
  {
   "cell_type": "code",
   "execution_count": 33,
   "source": [
    "ocupacao_pai = (enem['ocupacao pai'].value_counts(normalize = True) * 100).round(2)\n",
    "ocupacao_pai"
   ],
   "outputs": [
    {
     "output_type": "execute_result",
     "data": {
      "text/plain": [
       "C    23.43\n",
       "B    20.58\n",
       "A    20.43\n",
       "D    18.46\n",
       "F    10.99\n",
       "E     6.12\n",
       "Name: ocupacao pai, dtype: float64"
      ]
     },
     "metadata": {},
     "execution_count": 33
    }
   ],
   "metadata": {}
  },
  {
   "cell_type": "markdown",
   "source": [
    "## Ocupação da mãe\n",
    "\n",
    "### A - Grupo 1: Lavrador, agricultor sem empregados, bóia fria, criador de animais (gado, porcos, galinhas, ovelhas, cavalos etc.), apicultor, pescador, lenhador, seringueiro, extrativista.\n",
    "### B - Grupo 2: Diarista, empregado doméstico, cuidador de idosos, babá, cozinheiro (em casas particulares), motorista particular, jardineiro, faxineiro de empresas e prédios, vigilante, porteiro, carteiro, office-boy, vendedor, caixa, atendente de loja, auxiliar administrativo, recepcionista, servente de pedreiro, repositor de mercadoria.\n",
    "### C - Grupo 3: Padeiro, cozinheiro industrial ou em restaurantes, sapateiro, costureiro, joalheiro, torneiro mecânico, operador de máquinas, soldador, operário de fábrica, trabalhador da mineração, pedreiro, pintor, eletricista, encanador, motorista, caminhoneiro, taxista.\n",
    "### D - Grupo 4: Professor (de ensino fundamental ou médio, idioma, música, artes etc.), técnico (de enfermagem, contabilidade, eletrônica etc.), policial, militar de baixa patente (soldado, cabo, sargento), corretor de imóveis, supervisor, gerente, mestre de obras, pastor, microempresário (proprietário de empresa com menos de 10 empregados), pequeno comerciante, pequeno proprietário de terras, trabalhador autônomo ou por conta própria.\n",
    "### E - Grupo 5: Médico, engenheiro, dentista, psicólogo, economista, advogado, juiz, promotor, defensor, delegado, tenente, capitão, coronel, professor universitário, diretor em empresas públicas ou privadas, político, proprietário de empresas com mais de 10 empregados.\n",
    "### F - Não sei.\n"
   ],
   "metadata": {}
  },
  {
   "cell_type": "code",
   "execution_count": 34,
   "source": [
    "ocupacao_mae = (enem['ocupacao mae'].value_counts(normalize = True) * 100).round(2)\n",
    "ocupacao_mae"
   ],
   "outputs": [
    {
     "output_type": "execute_result",
     "data": {
      "text/plain": [
       "B    42.04\n",
       "D    21.83\n",
       "A    16.57\n",
       "F     8.55\n",
       "C     6.77\n",
       "E     4.23\n",
       "Name: ocupacao mae, dtype: float64"
      ]
     },
     "metadata": {},
     "execution_count": 34
    }
   ],
   "metadata": {}
  },
  {
   "cell_type": "markdown",
   "source": [
    "## Renda mensal da família \n",
    "\n",
    "### A - Nenhuma renda.\n",
    "### B - Até R$ 998,00.\n",
    "### C - De R$ 998,01 até R$ 1.497,00.\n",
    "### D - De R$ 1.497,01 até R$ 1.996,00.\n",
    "### E - De R$ 1.996,01 até R$ 2.495,00.\n",
    "### F - De R$ 2.495,01 até R$ 2.994,00.\n",
    "### G - De R$ 2.994,01 até R$ 3.992,00.\n",
    "### H - De R$ 3.992,01 até R$ 4.990,00.\n",
    "### I - De R$ 4.990,01 até R$ 5.988,00.\n",
    "### J - De R$ 5.988,01 até R$ 6.986,00.\n",
    "### K - De R$ 6.986,01 até R$ 7.984,00.\n",
    "### L - De R$ 7.984,01 até R$ 8.982,00.\n",
    "### M - De R$ 8.982,01 até R$ 9.980,00.\n",
    "### N - De R$ 9.980,01 até R$ 11.976,00.\n",
    "### O - De R$ 11.976,01 até R$ 14.970,00.\n",
    "### P - De R$ 14.970,01 até R$ 19.960,00.\n",
    "### Q - Mais de R$ 19.960,00.\n"
   ],
   "metadata": {}
  },
  {
   "cell_type": "code",
   "execution_count": 35,
   "source": [
    "renda_familia = (enem['renda mensal familia'].value_counts(normalize = True)*100).round(2)\n",
    "renda_familia"
   ],
   "outputs": [
    {
     "output_type": "execute_result",
     "data": {
      "text/plain": [
       "C    24.66\n",
       "B    24.30\n",
       "D     9.66\n",
       "E     9.32\n",
       "G     6.25\n",
       "F     4.61\n",
       "A     4.32\n",
       "H     4.11\n",
       "I     3.12\n",
       "J     1.77\n",
       "N     1.37\n",
       "K     1.28\n",
       "Q     1.25\n",
       "O     1.11\n",
       "L     0.97\n",
       "P     0.95\n",
       "M     0.95\n",
       "Name: renda mensal familia, dtype: float64"
      ]
     },
     "metadata": {},
     "execution_count": 35
    }
   ],
   "metadata": {}
  },
  {
   "cell_type": "markdown",
   "source": [
    "## Renda familiar em relação a ocupação da mãe"
   ],
   "metadata": {}
  },
  {
   "cell_type": "code",
   "execution_count": 36,
   "source": [
    "analise_renda01 = enem[(enem['renda mensal familia'] == 'C')]\n",
    "analise_renda01['ocupacao mae'].value_counts(normalize = True) * 100"
   ],
   "outputs": [
    {
     "output_type": "execute_result",
     "data": {
      "text/plain": [
       "B    53.361856\n",
       "A    16.061099\n",
       "D    13.492700\n",
       "F     8.408310\n",
       "C     8.072155\n",
       "E     0.603879\n",
       "Name: ocupacao mae, dtype: float64"
      ]
     },
     "metadata": {},
     "execution_count": 36
    }
   ],
   "metadata": {}
  },
  {
   "cell_type": "code",
   "execution_count": 37,
   "source": [
    "analise_renda02 = enem[(enem['renda mensal familia'] == 'B')]\n",
    "analise_renda02['ocupacao mae'].value_counts(normalize = True) * 100"
   ],
   "outputs": [
    {
     "output_type": "execute_result",
     "data": {
      "text/plain": [
       "B    46.845561\n",
       "A    33.240338\n",
       "F     8.155226\n",
       "D     6.427920\n",
       "C     5.037600\n",
       "E     0.293356\n",
       "Name: ocupacao mae, dtype: float64"
      ]
     },
     "metadata": {},
     "execution_count": 37
    }
   ],
   "metadata": {}
  },
  {
   "cell_type": "code",
   "execution_count": 38,
   "source": [
    "analise_renda03 = enem[(enem['renda mensal familia'] == 'D')]\n",
    "analise_renda03['ocupacao mae'].value_counts(normalize = True) * 100"
   ],
   "outputs": [
    {
     "output_type": "execute_result",
     "data": {
      "text/plain": [
       "B    49.823807\n",
       "D    20.832266\n",
       "A    10.131056\n",
       "C     9.551664\n",
       "F     8.348533\n",
       "E     1.312674\n",
       "Name: ocupacao mae, dtype: float64"
      ]
     },
     "metadata": {},
     "execution_count": 38
    }
   ],
   "metadata": {}
  },
  {
   "cell_type": "code",
   "execution_count": 39,
   "source": [
    "enem[enem['status redacao'] != 'Sem problemas'].raca.value_counts(normalize=True)*100"
   ],
   "outputs": [
    {
     "output_type": "execute_result",
     "data": {
      "text/plain": [
       "Parda            53.196139\n",
       "Branca           26.825992\n",
       "Preta            13.873017\n",
       "Não declarado     2.602148\n",
       "Amarela           2.311242\n",
       "Indígena          1.191462\n",
       "Name: raca, dtype: float64"
      ]
     },
     "metadata": {},
     "execution_count": 39
    }
   ],
   "metadata": {}
  },
  {
   "cell_type": "code",
   "execution_count": 40,
   "source": [
    "enem.head(5)"
   ],
   "outputs": [
    {
     "output_type": "execute_result",
     "data": {
      "text/html": [
       "<div>\n",
       "<style scoped>\n",
       "    .dataframe tbody tr th:only-of-type {\n",
       "        vertical-align: middle;\n",
       "    }\n",
       "\n",
       "    .dataframe tbody tr th {\n",
       "        vertical-align: top;\n",
       "    }\n",
       "\n",
       "    .dataframe thead th {\n",
       "        text-align: right;\n",
       "    }\n",
       "</style>\n",
       "<table border=\"1\" class=\"dataframe\">\n",
       "  <thead>\n",
       "    <tr style=\"text-align: right;\">\n",
       "      <th></th>\n",
       "      <th>idade</th>\n",
       "      <th>sexo</th>\n",
       "      <th>raca</th>\n",
       "      <th>st conclusao EM</th>\n",
       "      <th>ano conclusao EM</th>\n",
       "      <th>tipo de escola</th>\n",
       "      <th>nota CN</th>\n",
       "      <th>nota CH</th>\n",
       "      <th>nota LC</th>\n",
       "      <th>nota MT</th>\n",
       "      <th>status redacao</th>\n",
       "      <th>nota redacao</th>\n",
       "      <th>grau estudo pai</th>\n",
       "      <th>grau estudo mae</th>\n",
       "      <th>ocupacao pai</th>\n",
       "      <th>ocupacao mae</th>\n",
       "      <th>renda mensal familia</th>\n",
       "      <th>tem computador</th>\n",
       "      <th>acesso a internet</th>\n",
       "    </tr>\n",
       "  </thead>\n",
       "  <tbody>\n",
       "    <tr>\n",
       "      <th>3</th>\n",
       "      <td>25</td>\n",
       "      <td>F</td>\n",
       "      <td>Branca</td>\n",
       "      <td>1</td>\n",
       "      <td>4</td>\n",
       "      <td>Não respondeu</td>\n",
       "      <td>483.8</td>\n",
       "      <td>503.6</td>\n",
       "      <td>537.3</td>\n",
       "      <td>392.0</td>\n",
       "      <td>Sem problemas</td>\n",
       "      <td>460.0</td>\n",
       "      <td>Compl. 4º e 5º, mas não EF</td>\n",
       "      <td>Compl. EM, mas não completou faculdade</td>\n",
       "      <td>B</td>\n",
       "      <td>D</td>\n",
       "      <td>E</td>\n",
       "      <td>B</td>\n",
       "      <td>B</td>\n",
       "    </tr>\n",
       "    <tr>\n",
       "      <th>4</th>\n",
       "      <td>22</td>\n",
       "      <td>F</td>\n",
       "      <td>Branca</td>\n",
       "      <td>1</td>\n",
       "      <td>4</td>\n",
       "      <td>Não respondeu</td>\n",
       "      <td>513.6</td>\n",
       "      <td>575.5</td>\n",
       "      <td>570.7</td>\n",
       "      <td>677.0</td>\n",
       "      <td>Sem problemas</td>\n",
       "      <td>860.0</td>\n",
       "      <td>Compl. EM, mas não completou faculdade</td>\n",
       "      <td>Compl. EM, mas não completou faculdade</td>\n",
       "      <td>C</td>\n",
       "      <td>C</td>\n",
       "      <td>G</td>\n",
       "      <td>B</td>\n",
       "      <td>B</td>\n",
       "    </tr>\n",
       "    <tr>\n",
       "      <th>5</th>\n",
       "      <td>37</td>\n",
       "      <td>M</td>\n",
       "      <td>Preta</td>\n",
       "      <td>1</td>\n",
       "      <td>13</td>\n",
       "      <td>Não respondeu</td>\n",
       "      <td>563.7</td>\n",
       "      <td>644.9</td>\n",
       "      <td>564.2</td>\n",
       "      <td>675.3</td>\n",
       "      <td>Sem problemas</td>\n",
       "      <td>800.0</td>\n",
       "      <td>Não completou 4º e 5º</td>\n",
       "      <td>Não completou 4º e 5º</td>\n",
       "      <td>C</td>\n",
       "      <td>B</td>\n",
       "      <td>E</td>\n",
       "      <td>B</td>\n",
       "      <td>B</td>\n",
       "    </tr>\n",
       "    <tr>\n",
       "      <th>6</th>\n",
       "      <td>22</td>\n",
       "      <td>F</td>\n",
       "      <td>Parda</td>\n",
       "      <td>1</td>\n",
       "      <td>5</td>\n",
       "      <td>Não respondeu</td>\n",
       "      <td>484.6</td>\n",
       "      <td>488.4</td>\n",
       "      <td>507.2</td>\n",
       "      <td>594.7</td>\n",
       "      <td>Sem problemas</td>\n",
       "      <td>600.0</td>\n",
       "      <td>Compl. EM, mas não completou faculdade</td>\n",
       "      <td>Não completou 4º e 5º</td>\n",
       "      <td>C</td>\n",
       "      <td>B</td>\n",
       "      <td>B</td>\n",
       "      <td>A</td>\n",
       "      <td>A</td>\n",
       "    </tr>\n",
       "    <tr>\n",
       "      <th>9</th>\n",
       "      <td>17</td>\n",
       "      <td>M</td>\n",
       "      <td>Branca</td>\n",
       "      <td>2</td>\n",
       "      <td>0</td>\n",
       "      <td>Pública</td>\n",
       "      <td>543.9</td>\n",
       "      <td>548.1</td>\n",
       "      <td>502.5</td>\n",
       "      <td>480.7</td>\n",
       "      <td>Sem problemas</td>\n",
       "      <td>400.0</td>\n",
       "      <td>Compl. EM, mas não completou faculdade</td>\n",
       "      <td>Compl. EM, mas não completou faculdade</td>\n",
       "      <td>B</td>\n",
       "      <td>B</td>\n",
       "      <td>F</td>\n",
       "      <td>B</td>\n",
       "      <td>B</td>\n",
       "    </tr>\n",
       "  </tbody>\n",
       "</table>\n",
       "</div>"
      ],
      "text/plain": [
       "   idade sexo    raca  st conclusao EM  ano conclusao EM tipo de escola  \\\n",
       "3     25    F  Branca                1                 4  Não respondeu   \n",
       "4     22    F  Branca                1                 4  Não respondeu   \n",
       "5     37    M   Preta                1                13  Não respondeu   \n",
       "6     22    F   Parda                1                 5  Não respondeu   \n",
       "9     17    M  Branca                2                 0        Pública   \n",
       "\n",
       "   nota CN  nota CH  nota LC  nota MT status redacao  nota redacao  \\\n",
       "3    483.8    503.6    537.3    392.0  Sem problemas         460.0   \n",
       "4    513.6    575.5    570.7    677.0  Sem problemas         860.0   \n",
       "5    563.7    644.9    564.2    675.3  Sem problemas         800.0   \n",
       "6    484.6    488.4    507.2    594.7  Sem problemas         600.0   \n",
       "9    543.9    548.1    502.5    480.7  Sem problemas         400.0   \n",
       "\n",
       "                          grau estudo pai  \\\n",
       "3              Compl. 4º e 5º, mas não EF   \n",
       "4  Compl. EM, mas não completou faculdade   \n",
       "5                   Não completou 4º e 5º   \n",
       "6  Compl. EM, mas não completou faculdade   \n",
       "9  Compl. EM, mas não completou faculdade   \n",
       "\n",
       "                          grau estudo mae ocupacao pai ocupacao mae  \\\n",
       "3  Compl. EM, mas não completou faculdade            B            D   \n",
       "4  Compl. EM, mas não completou faculdade            C            C   \n",
       "5                   Não completou 4º e 5º            C            B   \n",
       "6                   Não completou 4º e 5º            C            B   \n",
       "9  Compl. EM, mas não completou faculdade            B            B   \n",
       "\n",
       "  renda mensal familia tem computador acesso a internet  \n",
       "3                    E              B                 B  \n",
       "4                    G              B                 B  \n",
       "5                    E              B                 B  \n",
       "6                    B              A                 A  \n",
       "9                    F              B                 B  "
      ]
     },
     "metadata": {},
     "execution_count": 40
    }
   ],
   "metadata": {}
  },
  {
   "cell_type": "code",
   "execution_count": 41,
   "source": [
    "enem.groupby('raca')['idade'].mean()"
   ],
   "outputs": [
    {
     "output_type": "execute_result",
     "data": {
      "text/plain": [
       "raca\n",
       "Amarela          20.661898\n",
       "Branca           20.424577\n",
       "Indígena         21.570105\n",
       "Não declarado    21.374816\n",
       "Parda            21.618950\n",
       "Preta            22.311877\n",
       "Name: idade, dtype: float64"
      ]
     },
     "metadata": {},
     "execution_count": 41
    }
   ],
   "metadata": {}
  },
  {
   "cell_type": "code",
   "execution_count": 42,
   "source": [
    "enem.groupby('raca')['idade'].min()"
   ],
   "outputs": [
    {
     "output_type": "execute_result",
     "data": {
      "text/plain": [
       "raca\n",
       "Amarela          13\n",
       "Branca           10\n",
       "Indígena         14\n",
       "Não declarado    11\n",
       "Parda            10\n",
       "Preta            11\n",
       "Name: idade, dtype: int64"
      ]
     },
     "metadata": {},
     "execution_count": 42
    }
   ],
   "metadata": {}
  },
  {
   "cell_type": "code",
   "execution_count": 43,
   "source": [
    "enem.groupby('raca')['idade'].max()"
   ],
   "outputs": [
    {
     "output_type": "execute_result",
     "data": {
      "text/plain": [
       "raca\n",
       "Amarela          76\n",
       "Branca           92\n",
       "Indígena         75\n",
       "Não declarado    83\n",
       "Parda            85\n",
       "Preta            82\n",
       "Name: idade, dtype: int64"
      ]
     },
     "metadata": {},
     "execution_count": 43
    }
   ],
   "metadata": {}
  },
  {
   "cell_type": "code",
   "execution_count": 44,
   "source": [
    "ax = sns.boxplot(x = 'raca', y = 'nota redacao', data = enem)\n",
    "ax.figure.set_size_inches(12,6)"
   ],
   "outputs": [
    {
     "output_type": "display_data",
     "data": {
      "image/png": "[encoded data removed]",
      "text/plain": [
       "<Figure size 864x432 with 1 Axes>"
      ]
     },
     "metadata": {
      "needs_background": "light"
     }
    }
   ],
   "metadata": {}
  },
  {
   "cell_type": "code",
   "execution_count": 45,
   "source": [
    "pessoas_pretas = enem.query(\"raca == 'Preta'\")['nota redacao']\n",
    "pessoas_pardas = enem.query(\"raca == 'Parda'\")['nota redacao']\n",
    "pessoas_indigenas = enem.query(\"raca == 'Indígena'\")['nota redacao']\n",
    "pessoas_amarelas = enem.query(\"raca == 'Amarela'\")['nota redacao']\n",
    "pessoas_brancas = enem.query(\"raca == 'Branca'\")['nota redacao']\n",
    "pessoas_nao_decladas = enem.query(\"raca == 'Não declarado'\")['nota redacao']"
   ],
   "outputs": [],
   "metadata": {}
  },
  {
   "cell_type": "code",
   "execution_count": 46,
   "source": [
    "sns.histplot(pessoas_pretas, bins=20)\n"
   ],
   "outputs": [
    {
     "output_type": "execute_result",
     "data": {
      "text/plain": [
       "<AxesSubplot:xlabel='nota redacao', ylabel='Count'>"
      ]
     },
     "metadata": {},
     "execution_count": 46
    },
    {
     "output_type": "display_data",
     "data": {
      "image/png": "[encoded data removed]",
      "text/plain": [
       "<Figure size 432x288 with 1 Axes>"
      ]
     },
     "metadata": {
      "needs_background": "light"
     }
    }
   ],
   "metadata": {}
  },
  {
   "cell_type": "code",
   "execution_count": 47,
   "source": [
    "sns.histplot(pessoas_pardas, bins=20)"
   ],
   "outputs": [
    {
     "output_type": "execute_result",
     "data": {
      "text/plain": [
       "<AxesSubplot:xlabel='nota redacao', ylabel='Count'>"
      ]
     },
     "metadata": {},
     "execution_count": 47
    },
    {
     "output_type": "display_data",
     "data": {
      "image/png": "[encoded data removed]",
      "text/plain": [
       "<Figure size 432x288 with 1 Axes>"
      ]
     },
     "metadata": {
      "needs_background": "light"
     }
    }
   ],
   "metadata": {}
  },
  {
   "cell_type": "code",
   "execution_count": 48,
   "source": [
    "sns.histplot(pessoas_indigenas, bins=20)"
   ],
   "outputs": [
    {
     "output_type": "execute_result",
     "data": {
      "text/plain": [
       "<AxesSubplot:xlabel='nota redacao', ylabel='Count'>"
      ]
     },
     "metadata": {},
     "execution_count": 48
    },
    {
     "output_type": "display_data",
     "data": {
      "image/png": "[encoded data removed]",
      "text/plain": [
       "<Figure size 432x288 with 1 Axes>"
      ]
     },
     "metadata": {
      "needs_background": "light"
     }
    }
   ],
   "metadata": {}
  },
  {
   "cell_type": "code",
   "execution_count": 49,
   "source": [
    "sns.histplot(pessoas_amarelas, bins=20)"
   ],
   "outputs": [
    {
     "output_type": "execute_result",
     "data": {
      "text/plain": [
       "<AxesSubplot:xlabel='nota redacao', ylabel='Count'>"
      ]
     },
     "metadata": {},
     "execution_count": 49
    },
    {
     "output_type": "display_data",
     "data": {
      "image/png": "[encoded data removed]",
      "text/plain": [
       "<Figure size 432x288 with 1 Axes>"
      ]
     },
     "metadata": {
      "needs_background": "light"
     }
    }
   ],
   "metadata": {}
  },
  {
   "cell_type": "code",
   "execution_count": 50,
   "source": [
    "sns.histplot(pessoas_nao_decladas, bins=20)"
   ],
   "outputs": [
    {
     "output_type": "execute_result",
     "data": {
      "text/plain": [
       "<AxesSubplot:xlabel='nota redacao', ylabel='Count'>"
      ]
     },
     "metadata": {},
     "execution_count": 50
    },
    {
     "output_type": "display_data",
     "data": {
      "image/png": "[encoded data removed]",
      "text/plain": [
       "<Figure size 432x288 with 1 Axes>"
      ]
     },
     "metadata": {
      "needs_background": "light"
     }
    }
   ],
   "metadata": {}
  },
  {
   "cell_type": "code",
   "execution_count": null,
   "source": [],
   "outputs": [],
   "metadata": {}
  }
 ],
 "metadata": {
  "kernelspec": {
   "name": "python3",
   "display_name": "Python 3.8.8 64-bit ('alura_pandas': conda)"
  },
  "language_info": {
   "codemirror_mode": {
    "name": "ipython",
    "version": 3
   },
   "file_extension": ".py",
   "mimetype": "text/x-python",
   "name": "python",
   "nbconvert_exporter": "python",
   "pygments_lexer": "ipython3",
   "version": "3.8.8"
  },
  "interpreter": {
   "hash": "20f091c28506443e8e0823a9a0fc58004b45f145cc80f1c4e9a7d4834a3ed1bb"
  }
 },
 "nbformat": 4,
 "nbformat_minor": 5
}