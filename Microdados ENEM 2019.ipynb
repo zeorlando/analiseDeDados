{
 "cells": [
  {
   "source": [
    "# Importando as bibliotecas"
   ],
   "cell_type": "markdown",
   "metadata": {}
  },
  {
   "cell_type": "code",
   "execution_count": 1,
   "metadata": {},
   "outputs": [],
   "source": [
    "import pandas as pd"
   ]
  },
  {
   "cell_type": "code",
   "execution_count": 2,
   "metadata": {},
   "outputs": [],
   "source": [
    "colunas = ['NU_NOTA_REDACAO', 'TP_ESCOLA','NU_NOTA_CN','NU_NOTA_CH','NU_NOTA_LC','NU_NOTA_MT', 'NU_IDADE', 'TP_SEXO', 'TP_STATUS_REDACAO','TP_ANO_CONCLUIU','TP_ST_CONCLUSAO','TP_COR_RACA','Q001', 'Q002', 'Q003', 'Q004', 'Q006', 'Q024', 'Q025']"
   ]
  },
  {
   "cell_type": "code",
   "execution_count": 3,
   "metadata": {},
   "outputs": [],
   "source": [
    "dados = pd.read_csv('dados/MICRODADOS_ENEM_2019.csv', encoding='iso-8859-1', sep = ';', usecols = colunas)"
   ]
  },
  {
   "cell_type": "code",
   "execution_count": 4,
   "metadata": {},
   "outputs": [
    {
     "output_type": "execute_result",
     "data": {
      "text/plain": [
       "Index(['NU_IDADE', 'TP_SEXO', 'TP_COR_RACA', 'TP_ST_CONCLUSAO',\n",
       "       'TP_ANO_CONCLUIU', 'TP_ESCOLA', 'NU_NOTA_CN', 'NU_NOTA_CH',\n",
       "       'NU_NOTA_LC', 'NU_NOTA_MT', 'TP_STATUS_REDACAO', 'NU_NOTA_REDACAO',\n",
       "       'Q001', 'Q002', 'Q003', 'Q004', 'Q006', 'Q024', 'Q025'],\n",
       "      dtype='object')"
      ]
     },
     "metadata": {},
     "execution_count": 4
    }
   ],
   "source": [
    "dados.columns"
   ]
  },
  {
   "cell_type": "code",
   "execution_count": 5,
   "metadata": {},
   "outputs": [],
   "source": [
    "renomear = {\n",
    "    'NU_IDADE' : 'idade', \n",
    "    'TP_SEXO' : 'sexo', \n",
    "    'TP_COR_RACA': 'raca', \n",
    "    'TP_ST_CONCLUSAO' : 'st conclusao EM',\n",
    "    'TP_ANO_CONCLUIU' : 'ano conclusao EM', \n",
    "    'TP_ESCOLA': 'tipo de escola', \n",
    "    'NU_NOTA_CN' : 'nota CN', \n",
    "    'NU_NOTA_CH' : 'nota CH',\n",
    "    'NU_NOTA_LC' : 'nota LC', \n",
    "    'NU_NOTA_MT' : 'nota MT', \n",
    "    'TP_STATUS_REDACAO' : 'status redacao', \n",
    "    'NU_NOTA_REDACAO' : 'nota redacao',\n",
    "    'Q001' : 'grau estudo pai', \n",
    "    'Q002' : 'grau estudo mae', \n",
    "    'Q003' : 'ocupacao pai', \n",
    "    'Q004' : 'ocupacao mae', \n",
    "    'Q006' : 'renda mensal familia', \n",
    "    'Q024' : 'tem computador', \n",
    "    'Q025' : 'acesso a internet'\n",
    "}"
   ]
  },
  {
   "cell_type": "code",
   "execution_count": 6,
   "metadata": {},
   "outputs": [],
   "source": [
    "enem = dados.rename(columns=renomear)"
   ]
  },
  {
   "source": [
    "## Verifica total de valores nulos nas variáveis analisadas"
   ],
   "cell_type": "markdown",
   "metadata": {}
  },
  {
   "cell_type": "code",
   "execution_count": 7,
   "metadata": {},
   "outputs": [
    {
     "output_type": "execute_result",
     "data": {
      "text/plain": [
       "idade                        69\n",
       "sexo                          0\n",
       "raca                          0\n",
       "st conclusao EM               0\n",
       "ano conclusao EM              0\n",
       "tipo de escola                0\n",
       "nota CN                 1384837\n",
       "nota CH                 1172125\n",
       "nota LC                 1172125\n",
       "nota MT                 1384837\n",
       "status redacao          1172126\n",
       "nota redacao            1172126\n",
       "grau estudo pai               0\n",
       "grau estudo mae               0\n",
       "ocupacao pai                  0\n",
       "ocupacao mae                  0\n",
       "renda mensal familia          0\n",
       "tem computador                0\n",
       "acesso a internet             0\n",
       "dtype: int64"
      ]
     },
     "metadata": {},
     "execution_count": 7
    }
   ],
   "source": [
    "enem.isnull().sum()"
   ]
  },
  {
   "cell_type": "code",
   "execution_count": 8,
   "metadata": {},
   "outputs": [],
   "source": [
    "enem = enem.dropna(subset=['idade'])"
   ]
  },
  {
   "cell_type": "code",
   "execution_count": 9,
   "metadata": {},
   "outputs": [],
   "source": [
    "enem['idade'] = enem['idade'].astype(int)"
   ]
  },
  {
   "cell_type": "code",
   "execution_count": 10,
   "metadata": {},
   "outputs": [
    {
     "output_type": "execute_result",
     "data": {
      "text/plain": [
       "   idade sexo  raca  st conclusao EM  ano conclusao EM  tipo de escola  \\\n",
       "0     36    M     3                1                11               1   \n",
       "1     23    M     1                1                 5               1   \n",
       "2     39    F     3                1                13               1   \n",
       "3     25    F     1                1                 4               1   \n",
       "4     22    F     1                1                 4               1   \n",
       "5     37    M     2                1                13               1   \n",
       "6     22    F     3                1                 5               1   \n",
       "7     20    M     3                1                 1               1   \n",
       "8     20    F     1                1                 1               1   \n",
       "9     17    M     1                2                 0               2   \n",
       "\n",
       "   nota CN  nota CH  nota LC  nota MT  status redacao  nota redacao  \\\n",
       "0      NaN      NaN      NaN      NaN             NaN           NaN   \n",
       "1      NaN      NaN      NaN      NaN             NaN           NaN   \n",
       "2      NaN      NaN      NaN      NaN             NaN           NaN   \n",
       "3    483.8    503.6    537.3    392.0             1.0         460.0   \n",
       "4    513.6    575.5    570.7    677.0             1.0         860.0   \n",
       "5    563.7    644.9    564.2    675.3             1.0         800.0   \n",
       "6    484.6    488.4    507.2    594.7             1.0         600.0   \n",
       "7      NaN      NaN      NaN      NaN             NaN           NaN   \n",
       "8      NaN      NaN      NaN      NaN             NaN           NaN   \n",
       "9    543.9    548.1    502.5    480.7             1.0         400.0   \n",
       "\n",
       "  grau estudo pai grau estudo mae ocupacao pai ocupacao mae  \\\n",
       "0               B               B            A            A   \n",
       "1               C               E            B            B   \n",
       "2               E               E            B            C   \n",
       "3               C               E            B            D   \n",
       "4               E               E            C            C   \n",
       "5               B               B            C            B   \n",
       "6               E               B            C            B   \n",
       "7               E               B            B            B   \n",
       "8               B               C            C            F   \n",
       "9               E               E            B            B   \n",
       "\n",
       "  renda mensal familia tem computador acesso a internet  \n",
       "0                    A              C                 B  \n",
       "1                    C              A                 B  \n",
       "2                    B              A                 B  \n",
       "3                    E              B                 B  \n",
       "4                    G              B                 B  \n",
       "5                    E              B                 B  \n",
       "6                    B              A                 A  \n",
       "7                    D              A                 B  \n",
       "8                    C              A                 A  \n",
       "9                    F              B                 B  "
      ],
      "text/html": "<div>\n<style scoped>\n    .dataframe tbody tr th:only-of-type {\n        vertical-align: middle;\n    }\n\n    .dataframe tbody tr th {\n        vertical-align: top;\n    }\n\n    .dataframe thead th {\n        text-align: right;\n    }\n</style>\n<table border=\"1\" class=\"dataframe\">\n  <thead>\n    <tr style=\"text-align: right;\">\n      <th></th>\n      <th>idade</th>\n      <th>sexo</th>\n      <th>raca</th>\n      <th>st conclusao EM</th>\n      <th>ano conclusao EM</th>\n      <th>tipo de escola</th>\n      <th>nota CN</th>\n      <th>nota CH</th>\n      <th>nota LC</th>\n      <th>nota MT</th>\n      <th>status redacao</th>\n      <th>nota redacao</th>\n      <th>grau estudo pai</th>\n      <th>grau estudo mae</th>\n      <th>ocupacao pai</th>\n      <th>ocupacao mae</th>\n      <th>renda mensal familia</th>\n      <th>tem computador</th>\n      <th>acesso a internet</th>\n    </tr>\n  </thead>\n  <tbody>\n    <tr>\n      <th>0</th>\n      <td>36</td>\n      <td>M</td>\n      <td>3</td>\n      <td>1</td>\n      <td>11</td>\n      <td>1</td>\n      <td>NaN</td>\n      <td>NaN</td>\n      <td>NaN</td>\n      <td>NaN</td>\n      <td>NaN</td>\n      <td>NaN</td>\n      <td>B</td>\n      <td>B</td>\n      <td>A</td>\n      <td>A</td>\n      <td>A</td>\n      <td>C</td>\n      <td>B</td>\n    </tr>\n    <tr>\n      <th>1</th>\n      <td>23</td>\n      <td>M</td>\n      <td>1</td>\n      <td>1</td>\n      <td>5</td>\n      <td>1</td>\n      <td>NaN</td>\n      <td>NaN</td>\n      <td>NaN</td>\n      <td>NaN</td>\n      <td>NaN</td>\n      <td>NaN</td>\n      <td>C</td>\n      <td>E</td>\n      <td>B</td>\n      <td>B</td>\n      <td>C</td>\n      <td>A</td>\n      <td>B</td>\n    </tr>\n    <tr>\n      <th>2</th>\n      <td>39</td>\n      <td>F</td>\n      <td>3</td>\n      <td>1</td>\n      <td>13</td>\n      <td>1</td>\n      <td>NaN</td>\n      <td>NaN</td>\n      <td>NaN</td>\n      <td>NaN</td>\n      <td>NaN</td>\n      <td>NaN</td>\n      <td>E</td>\n      <td>E</td>\n      <td>B</td>\n      <td>C</td>\n      <td>B</td>\n      <td>A</td>\n      <td>B</td>\n    </tr>\n    <tr>\n      <th>3</th>\n      <td>25</td>\n      <td>F</td>\n      <td>1</td>\n      <td>1</td>\n      <td>4</td>\n      <td>1</td>\n      <td>483.8</td>\n      <td>503.6</td>\n      <td>537.3</td>\n      <td>392.0</td>\n      <td>1.0</td>\n      <td>460.0</td>\n      <td>C</td>\n      <td>E</td>\n      <td>B</td>\n      <td>D</td>\n      <td>E</td>\n      <td>B</td>\n      <td>B</td>\n    </tr>\n    <tr>\n      <th>4</th>\n      <td>22</td>\n      <td>F</td>\n      <td>1</td>\n      <td>1</td>\n      <td>4</td>\n      <td>1</td>\n      <td>513.6</td>\n      <td>575.5</td>\n      <td>570.7</td>\n      <td>677.0</td>\n      <td>1.0</td>\n      <td>860.0</td>\n      <td>E</td>\n      <td>E</td>\n      <td>C</td>\n      <td>C</td>\n      <td>G</td>\n      <td>B</td>\n      <td>B</td>\n    </tr>\n    <tr>\n      <th>5</th>\n      <td>37</td>\n      <td>M</td>\n      <td>2</td>\n      <td>1</td>\n      <td>13</td>\n      <td>1</td>\n      <td>563.7</td>\n      <td>644.9</td>\n      <td>564.2</td>\n      <td>675.3</td>\n      <td>1.0</td>\n      <td>800.0</td>\n      <td>B</td>\n      <td>B</td>\n      <td>C</td>\n      <td>B</td>\n      <td>E</td>\n      <td>B</td>\n      <td>B</td>\n    </tr>\n    <tr>\n      <th>6</th>\n      <td>22</td>\n      <td>F</td>\n      <td>3</td>\n      <td>1</td>\n      <td>5</td>\n      <td>1</td>\n      <td>484.6</td>\n      <td>488.4</td>\n      <td>507.2</td>\n      <td>594.7</td>\n      <td>1.0</td>\n      <td>600.0</td>\n      <td>E</td>\n      <td>B</td>\n      <td>C</td>\n      <td>B</td>\n      <td>B</td>\n      <td>A</td>\n      <td>A</td>\n    </tr>\n    <tr>\n      <th>7</th>\n      <td>20</td>\n      <td>M</td>\n      <td>3</td>\n      <td>1</td>\n      <td>1</td>\n      <td>1</td>\n      <td>NaN</td>\n      <td>NaN</td>\n      <td>NaN</td>\n      <td>NaN</td>\n      <td>NaN</td>\n      <td>NaN</td>\n      <td>E</td>\n      <td>B</td>\n      <td>B</td>\n      <td>B</td>\n      <td>D</td>\n      <td>A</td>\n      <td>B</td>\n    </tr>\n    <tr>\n      <th>8</th>\n      <td>20</td>\n      <td>F</td>\n      <td>1</td>\n      <td>1</td>\n      <td>1</td>\n      <td>1</td>\n      <td>NaN</td>\n      <td>NaN</td>\n      <td>NaN</td>\n      <td>NaN</td>\n      <td>NaN</td>\n      <td>NaN</td>\n      <td>B</td>\n      <td>C</td>\n      <td>C</td>\n      <td>F</td>\n      <td>C</td>\n      <td>A</td>\n      <td>A</td>\n    </tr>\n    <tr>\n      <th>9</th>\n      <td>17</td>\n      <td>M</td>\n      <td>1</td>\n      <td>2</td>\n      <td>0</td>\n      <td>2</td>\n      <td>543.9</td>\n      <td>548.1</td>\n      <td>502.5</td>\n      <td>480.7</td>\n      <td>1.0</td>\n      <td>400.0</td>\n      <td>E</td>\n      <td>E</td>\n      <td>B</td>\n      <td>B</td>\n      <td>F</td>\n      <td>B</td>\n      <td>B</td>\n    </tr>\n  </tbody>\n</table>\n</div>"
     },
     "metadata": {},
     "execution_count": 10
    }
   ],
   "source": [
    "enem.head(10)"
   ]
  },
  {
   "source": [
    "## Participantes por sexo"
   ],
   "cell_type": "markdown",
   "metadata": {}
  },
  {
   "cell_type": "code",
   "execution_count": 18,
   "metadata": {},
   "outputs": [
    {
     "output_type": "execute_result",
     "data": {
      "text/plain": [
       "   sexo\n",
       "F  59.5\n",
       "M  40.5"
      ],
      "text/html": "<div>\n<style scoped>\n    .dataframe tbody tr th:only-of-type {\n        vertical-align: middle;\n    }\n\n    .dataframe tbody tr th {\n        vertical-align: top;\n    }\n\n    .dataframe thead th {\n        text-align: right;\n    }\n</style>\n<table border=\"1\" class=\"dataframe\">\n  <thead>\n    <tr style=\"text-align: right;\">\n      <th></th>\n      <th>sexo</th>\n    </tr>\n  </thead>\n  <tbody>\n    <tr>\n      <th>F</th>\n      <td>59.5</td>\n    </tr>\n    <tr>\n      <th>M</th>\n      <td>40.5</td>\n    </tr>\n  </tbody>\n</table>\n</div>"
     },
     "metadata": {},
     "execution_count": 18
    }
   ],
   "source": [
    "por_sexo = (enem['sexo'].value_counts(normalize = True) * 100).round(2)\n",
    "pd.DataFrame(por_sexo)"
   ]
  },
  {
   "source": [
    "## Participantes por raça"
   ],
   "cell_type": "markdown",
   "metadata": {}
  },
  {
   "cell_type": "code",
   "execution_count": 24,
   "metadata": {},
   "outputs": [
    {
     "output_type": "execute_result",
     "data": {
      "text/plain": [
       "array([3, 1, 2, 4, 0, 5])"
      ]
     },
     "metadata": {},
     "execution_count": 24
    }
   ],
   "source": [
    "enem['raca'].unique() #verifica os ids usados, a nomenclatura respectiva é buscada do dicionário de dados"
   ]
  },
  {
   "cell_type": "code",
   "execution_count": 25,
   "metadata": {},
   "outputs": [],
   "source": [
    "id_raca = {\n",
    "    3 : 'Parda', \n",
    "    1 : 'Branca', \n",
    "    2 : 'Preta', \n",
    "    4 : 'Amarela', \n",
    "    0 : 'Não declarado', \n",
    "    5 : 'Indígena'\n",
    "}"
   ]
  },
  {
   "cell_type": "code",
   "execution_count": 26,
   "metadata": {},
   "outputs": [],
   "source": [
    "enem['raca'] = enem['raca'].map(id_raca)"
   ]
  },
  {
   "cell_type": "code",
   "execution_count": 27,
   "metadata": {},
   "outputs": [
    {
     "output_type": "execute_result",
     "data": {
      "text/plain": [
       "                raca\n",
       "Parda          46.40\n",
       "Branca         35.95\n",
       "Preta          12.72\n",
       "Amarela         2.28\n",
       "Não declarado   2.03\n",
       "Indígena        0.62"
      ],
      "text/html": "<div>\n<style scoped>\n    .dataframe tbody tr th:only-of-type {\n        vertical-align: middle;\n    }\n\n    .dataframe tbody tr th {\n        vertical-align: top;\n    }\n\n    .dataframe thead th {\n        text-align: right;\n    }\n</style>\n<table border=\"1\" class=\"dataframe\">\n  <thead>\n    <tr style=\"text-align: right;\">\n      <th></th>\n      <th>raca</th>\n    </tr>\n  </thead>\n  <tbody>\n    <tr>\n      <th>Parda</th>\n      <td>46.40</td>\n    </tr>\n    <tr>\n      <th>Branca</th>\n      <td>35.95</td>\n    </tr>\n    <tr>\n      <th>Preta</th>\n      <td>12.72</td>\n    </tr>\n    <tr>\n      <th>Amarela</th>\n      <td>2.28</td>\n    </tr>\n    <tr>\n      <th>Não declarado</th>\n      <td>2.03</td>\n    </tr>\n    <tr>\n      <th>Indígena</th>\n      <td>0.62</td>\n    </tr>\n  </tbody>\n</table>\n</div>"
     },
     "metadata": {},
     "execution_count": 27
    }
   ],
   "source": [
    "por_raca = (enem['raca'].value_counts(normalize = True) * 100).round(2)\n",
    "pd.DataFrame(por_raca)"
   ]
  },
  {
   "source": [
    "## Participantes por tipo de escola"
   ],
   "cell_type": "markdown",
   "metadata": {}
  },
  {
   "cell_type": "code",
   "execution_count": 29,
   "metadata": {},
   "outputs": [
    {
     "output_type": "execute_result",
     "data": {
      "text/plain": [
       "array([1, 2, 3])"
      ]
     },
     "metadata": {},
     "execution_count": 29
    }
   ],
   "source": [
    "enem['tipo de escola'].unique()"
   ]
  },
  {
   "cell_type": "code",
   "execution_count": 30,
   "metadata": {},
   "outputs": [],
   "source": [
    "id_tipo_escola = {\n",
    "    1 : 'Não respondeu', \n",
    "    2 : 'Pública', \n",
    "    3 : 'Privada'\n",
    "}"
   ]
  },
  {
   "cell_type": "code",
   "execution_count": 31,
   "metadata": {},
   "outputs": [],
   "source": [
    "enem['tipo de escola'] = enem['tipo de escola'].map(id_tipo_escola)"
   ]
  },
  {
   "cell_type": "code",
   "execution_count": 32,
   "metadata": {},
   "outputs": [
    {
     "output_type": "execute_result",
     "data": {
      "text/plain": [
       "               tipo de escola\n",
       "Não respondeu           71.23\n",
       "Pública                 24.48\n",
       "Privada                  4.29"
      ],
      "text/html": "<div>\n<style scoped>\n    .dataframe tbody tr th:only-of-type {\n        vertical-align: middle;\n    }\n\n    .dataframe tbody tr th {\n        vertical-align: top;\n    }\n\n    .dataframe thead th {\n        text-align: right;\n    }\n</style>\n<table border=\"1\" class=\"dataframe\">\n  <thead>\n    <tr style=\"text-align: right;\">\n      <th></th>\n      <th>tipo de escola</th>\n    </tr>\n  </thead>\n  <tbody>\n    <tr>\n      <th>Não respondeu</th>\n      <td>71.23</td>\n    </tr>\n    <tr>\n      <th>Pública</th>\n      <td>24.48</td>\n    </tr>\n    <tr>\n      <th>Privada</th>\n      <td>4.29</td>\n    </tr>\n  </tbody>\n</table>\n</div>"
     },
     "metadata": {},
     "execution_count": 32
    }
   ],
   "source": [
    "por_escola = (enem['tipo de escola'].value_counts(normalize = True) * 100).round(2)\n",
    "pd.DataFrame(por_escola)"
   ]
  },
  {
   "cell_type": "code",
   "execution_count": null,
   "metadata": {},
   "outputs": [],
   "source": []
  }
 ],
 "metadata": {
  "kernelspec": {
   "name": "python3",
   "display_name": "Python 3.8.10 64-bit"
  },
  "language_info": {
   "codemirror_mode": {
    "name": "ipython",
    "version": 3
   },
   "file_extension": ".py",
   "mimetype": "text/x-python",
   "name": "python",
   "nbconvert_exporter": "python",
   "pygments_lexer": "ipython3",
   "version": "3.8.10"
  },
  "interpreter": {
   "hash": "916dbcbb3f70747c44a77c7bcd40155683ae19c65e1c03b4aa3499c5328201f1"
  }
 },
 "nbformat": 4,
 "nbformat_minor": 5
}