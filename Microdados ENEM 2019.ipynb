{
 "cells": [
  {
   "source": [
    "# Importando as bibliotecas"
   ],
   "cell_type": "markdown",
   "metadata": {}
  },
  {
   "cell_type": "code",
   "execution_count": 1,
   "metadata": {},
   "outputs": [],
   "source": [
    "import pandas as pd"
   ]
  },
  {
   "cell_type": "code",
   "execution_count": 2,
   "metadata": {},
   "outputs": [],
   "source": [
    "colunas = ['NU_NOTA_REDACAO', 'TP_ESCOLA','NU_NOTA_CN','NU_NOTA_CH','NU_NOTA_LC','NU_NOTA_MT', 'NU_IDADE', 'TP_SEXO', 'TP_STATUS_REDACAO','TP_ANO_CONCLUIU','TP_ST_CONCLUSAO','TP_COR_RACA','Q001', 'Q002', 'Q003', 'Q004', 'Q006', 'Q024', 'Q025']"
   ]
  },
  {
   "cell_type": "code",
   "execution_count": 3,
   "metadata": {},
   "outputs": [],
   "source": [
    "dados = pd.read_csv('dados/MICRODADOS_ENEM_2019.csv', encoding='iso-8859-1', sep = ';', usecols = colunas)"
   ]
  },
  {
   "cell_type": "code",
   "execution_count": 4,
   "metadata": {},
   "outputs": [
    {
     "output_type": "execute_result",
     "data": {
      "text/plain": [
       "Index(['NU_IDADE', 'TP_SEXO', 'TP_COR_RACA', 'TP_ST_CONCLUSAO',\n",
       "       'TP_ANO_CONCLUIU', 'TP_ESCOLA', 'NU_NOTA_CN', 'NU_NOTA_CH',\n",
       "       'NU_NOTA_LC', 'NU_NOTA_MT', 'TP_STATUS_REDACAO', 'NU_NOTA_REDACAO',\n",
       "       'Q001', 'Q002', 'Q003', 'Q004', 'Q006', 'Q024', 'Q025'],\n",
       "      dtype='object')"
      ]
     },
     "metadata": {},
     "execution_count": 4
    }
   ],
   "source": [
    "dados.columns"
   ]
  },
  {
   "cell_type": "code",
   "execution_count": 5,
   "metadata": {},
   "outputs": [],
   "source": [
    "renomear = {\n",
    "    'NU_IDADE' : 'idade', \n",
    "    'TP_SEXO' : 'sexo', \n",
    "    'TP_COR_RACA': 'raca', \n",
    "    'TP_ST_CONCLUSAO' : 'st conclusao EM',\n",
    "    'TP_ANO_CONCLUIU' : 'ano conclusao EM', \n",
    "    'TP_ESCOLA': 'tipo de escola', \n",
    "    'NU_NOTA_CN' : 'nota CN', \n",
    "    'NU_NOTA_CH' : 'nota CH',\n",
    "    'NU_NOTA_LC' : 'nota LC', \n",
    "    'NU_NOTA_MT' : 'nota MT', \n",
    "    'TP_STATUS_REDACAO' : 'status redacao', \n",
    "    'NU_NOTA_REDACAO' : 'nota redacao',\n",
    "    'Q001' : 'grau estudo pai', \n",
    "    'Q002' : 'grau estudo mae', \n",
    "    'Q003' : 'ocupacao pai', \n",
    "    'Q004' : 'ocupacao mae', \n",
    "    'Q006' : 'renda mensal familia', \n",
    "    'Q024' : 'tem computador', \n",
    "    'Q025' : 'acesso a internet'\n",
    "}"
   ]
  },
  {
   "cell_type": "code",
   "execution_count": 6,
   "metadata": {},
   "outputs": [],
   "source": [
    "enem = dados.rename(columns=renomear)"
   ]
  },
  {
   "cell_type": "code",
   "execution_count": 7,
   "metadata": {},
   "outputs": [
    {
     "output_type": "stream",
     "name": "stdout",
     "text": [
      "<class 'pandas.core.frame.DataFrame'>\nRangeIndex: 5095270 entries, 0 to 5095269\nData columns (total 19 columns):\n #   Column                Dtype  \n---  ------                -----  \n 0   idade                 float64\n 1   sexo                  object \n 2   raca                  int64  \n 3   st conclusao EM       int64  \n 4   ano conclusao EM      int64  \n 5   tipo de escola        int64  \n 6   nota CN               float64\n 7   nota CH               float64\n 8   nota LC               float64\n 9   nota MT               float64\n 10  status redacao        float64\n 11  nota redacao          float64\n 12  grau estudo pai       object \n 13  grau estudo mae       object \n 14  ocupacao pai          object \n 15  ocupacao mae          object \n 16  renda mensal familia  object \n 17  tem computador        object \n 18  acesso a internet     object \ndtypes: float64(7), int64(4), object(8)\nmemory usage: 738.6+ MB\n"
     ]
    }
   ],
   "source": [
    "enem.info()"
   ]
  },
  {
   "cell_type": "code",
   "execution_count": null,
   "metadata": {},
   "outputs": [],
   "source": []
  }
 ],
 "metadata": {
  "kernelspec": {
   "name": "python3",
   "display_name": "Python 3.8.10 64-bit"
  },
  "language_info": {
   "codemirror_mode": {
    "name": "ipython",
    "version": 3
   },
   "file_extension": ".py",
   "mimetype": "text/x-python",
   "name": "python",
   "nbconvert_exporter": "python",
   "pygments_lexer": "ipython3",
   "version": "3.8.10"
  },
  "interpreter": {
   "hash": "916dbcbb3f70747c44a77c7bcd40155683ae19c65e1c03b4aa3499c5328201f1"
  }
 },
 "nbformat": 4,
 "nbformat_minor": 5
}